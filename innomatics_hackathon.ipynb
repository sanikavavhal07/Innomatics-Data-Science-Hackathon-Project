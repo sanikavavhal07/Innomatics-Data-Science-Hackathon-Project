{
 "cells": [
  {
   "cell_type": "code",
   "execution_count": 2,
   "id": "974948f9-b1b7-410b-beb2-f6a153bed5a7",
   "metadata": {},
   "outputs": [],
   "source": [
    "import pandas as pd\n",
    "import numpy as np"
   ]
  },
  {
   "cell_type": "code",
   "execution_count": 3,
   "id": "f575913e-567a-4309-9a68-69a37cb995f4",
   "metadata": {},
   "outputs": [],
   "source": [
    "movies_df=pd.read_csv('movies.csv')"
   ]
  },
  {
   "cell_type": "code",
   "execution_count": 4,
   "id": "3553e3e1-e113-421c-ac35-21015a389491",
   "metadata": {},
   "outputs": [
    {
     "data": {
      "text/plain": [
       "(9742, 3)"
      ]
     },
     "execution_count": 4,
     "metadata": {},
     "output_type": "execute_result"
    }
   ],
   "source": [
    "movies_df.shape"
   ]
  },
  {
   "cell_type": "code",
   "execution_count": 5,
   "id": "4c6d18a6-2f65-4ce4-9d94-b6eac28c066b",
   "metadata": {},
   "outputs": [],
   "source": [
    "ratings_df=pd.read_csv('ratings.csv')"
   ]
  },
  {
   "cell_type": "code",
   "execution_count": 6,
   "id": "63b6a556-a6db-42b1-932e-21c089824f6b",
   "metadata": {},
   "outputs": [
    {
     "data": {
      "text/plain": [
       "(100836, 4)"
      ]
     },
     "execution_count": 6,
     "metadata": {},
     "output_type": "execute_result"
    }
   ],
   "source": [
    "ratings_df.shape"
   ]
  },
  {
   "cell_type": "code",
   "execution_count": 4,
   "id": "6db5d140-8780-4fb8-948a-34bd00c75aa8",
   "metadata": {},
   "outputs": [
    {
     "data": {
      "text/plain": [
       "Index(['movieId', 'title', 'genres'], dtype='object')"
      ]
     },
     "execution_count": 4,
     "metadata": {},
     "output_type": "execute_result"
    }
   ],
   "source": [
    "movies_df.columns"
   ]
  },
  {
   "cell_type": "code",
   "execution_count": 9,
   "id": "2e9e2eef-9843-4c83-8f6b-ff9ca09e93ec",
   "metadata": {},
   "outputs": [
    {
     "data": {
      "text/plain": [
       "array([  1,   2,   3,   4,   5,   6,   7,   8,   9,  10,  11,  12,  13,\n",
       "        14,  15,  16,  17,  18,  19,  20,  21,  22,  23,  24,  25,  26,\n",
       "        27,  28,  29,  30,  31,  32,  33,  34,  35,  36,  37,  38,  39,\n",
       "        40,  41,  42,  43,  44,  45,  46,  47,  48,  49,  50,  51,  52,\n",
       "        53,  54,  55,  56,  57,  58,  59,  60,  61,  62,  63,  64,  65,\n",
       "        66,  67,  68,  69,  70,  71,  72,  73,  74,  75,  76,  77,  78,\n",
       "        79,  80,  81,  82,  83,  84,  85,  86,  87,  88,  89,  90,  91,\n",
       "        92,  93,  94,  95,  96,  97,  98,  99, 100, 101, 102, 103, 104,\n",
       "       105, 106, 107, 108, 109, 110, 111, 112, 113, 114, 115, 116, 117,\n",
       "       118, 119, 120, 121, 122, 123, 124, 125, 126, 127, 128, 129, 130,\n",
       "       131, 132, 133, 134, 135, 136, 137, 138, 139, 140, 141, 142, 143,\n",
       "       144, 145, 146, 147, 148, 149, 150, 151, 152, 153, 154, 155, 156,\n",
       "       157, 158, 159, 160, 161, 162, 163, 164, 165, 166, 167, 168, 169,\n",
       "       170, 171, 172, 173, 174, 175, 176, 177, 178, 179, 180, 181, 182,\n",
       "       183, 184, 185, 186, 187, 188, 189, 190, 191, 192, 193, 194, 195,\n",
       "       196, 197, 198, 199, 200, 201, 202, 203, 204, 205, 206, 207, 208,\n",
       "       209, 210, 211, 212, 213, 214, 215, 216, 217, 218, 219, 220, 221,\n",
       "       222, 223, 224, 225, 226, 227, 228, 229, 230, 231, 232, 233, 234,\n",
       "       235, 236, 237, 238, 239, 240, 241, 242, 243, 244, 245, 246, 247,\n",
       "       248, 249, 250, 251, 252, 253, 254, 255, 256, 257, 258, 259, 260,\n",
       "       261, 262, 263, 264, 265, 266, 267, 268, 269, 270, 271, 272, 273,\n",
       "       274, 275, 276, 277, 278, 279, 280, 281, 282, 283, 284, 285, 286,\n",
       "       287, 288, 289, 290, 291, 292, 293, 294, 295, 296, 297, 298, 299,\n",
       "       300, 301, 302, 303, 304, 305, 306, 307, 308, 309, 310, 311, 312,\n",
       "       313, 314, 315, 316, 317, 318, 319, 320, 321, 322, 323, 324, 325,\n",
       "       326, 327, 328, 329, 330, 331, 332, 333, 334, 335, 336, 337, 338,\n",
       "       339, 340, 341, 342, 343, 344, 345, 346, 347, 348, 349, 350, 351,\n",
       "       352, 353, 354, 355, 356, 357, 358, 359, 360, 361, 362, 363, 364,\n",
       "       365, 366, 367, 368, 369, 370, 371, 372, 373, 374, 375, 376, 377,\n",
       "       378, 379, 380, 381, 382, 383, 384, 385, 386, 387, 388, 389, 390,\n",
       "       391, 392, 393, 394, 395, 396, 397, 398, 399, 400, 401, 402, 403,\n",
       "       404, 405, 406, 407, 408, 409, 410, 411, 412, 413, 414, 415, 416,\n",
       "       417, 418, 419, 420, 421, 422, 423, 424, 425, 426, 427, 428, 429,\n",
       "       430, 431, 432, 433, 434, 435, 436, 437, 438, 439, 440, 441, 442,\n",
       "       443, 444, 445, 446, 447, 448, 449, 450, 451, 452, 453, 454, 455,\n",
       "       456, 457, 458, 459, 460, 461, 462, 463, 464, 465, 466, 467, 468,\n",
       "       469, 470, 471, 472, 473, 474, 475, 476, 477, 478, 479, 480, 481,\n",
       "       482, 483, 484, 485, 486, 487, 488, 489, 490, 491, 492, 493, 494,\n",
       "       495, 496, 497, 498, 499, 500, 501, 502, 503, 504, 505, 506, 507,\n",
       "       508, 509, 510, 511, 512, 513, 514, 515, 516, 517, 518, 519, 520,\n",
       "       521, 522, 523, 524, 525, 526, 527, 528, 529, 530, 531, 532, 533,\n",
       "       534, 535, 536, 537, 538, 539, 540, 541, 542, 543, 544, 545, 546,\n",
       "       547, 548, 549, 550, 551, 552, 553, 554, 555, 556, 557, 558, 559,\n",
       "       560, 561, 562, 563, 564, 565, 566, 567, 568, 569, 570, 571, 572,\n",
       "       573, 574, 575, 576, 577, 578, 579, 580, 581, 582, 583, 584, 585,\n",
       "       586, 587, 588, 589, 590, 591, 592, 593, 594, 595, 596, 597, 598,\n",
       "       599, 600, 601, 602, 603, 604, 605, 606, 607, 608, 609, 610],\n",
       "      dtype=int64)"
      ]
     },
     "execution_count": 9,
     "metadata": {},
     "output_type": "execute_result"
    }
   ],
   "source": [
    "unique = ratings_df.userId.unique()\n",
    "unique"
   ]
  },
  {
   "cell_type": "code",
   "execution_count": 10,
   "id": "dc6a14a1-2b3c-402b-b1d0-07c0c9f7fe71",
   "metadata": {},
   "outputs": [
    {
     "data": {
      "text/plain": [
       "userId\n",
       "414    2698\n",
       "599    2478\n",
       "474    2108\n",
       "448    1864\n",
       "274    1346\n",
       "       ... \n",
       "442      20\n",
       "569      20\n",
       "320      20\n",
       "576      20\n",
       "53       20\n",
       "Name: count, Length: 610, dtype: int64"
      ]
     },
     "execution_count": 10,
     "metadata": {},
     "output_type": "execute_result"
    }
   ],
   "source": [
    "ratings_df.userId.value_counts()"
   ]
  },
  {
   "cell_type": "code",
   "execution_count": 13,
   "id": "2e92f210-55a6-4af9-a3b0-9b7da6e47a3b",
   "metadata": {},
   "outputs": [
    {
     "name": "stdout",
     "output_type": "stream",
     "text": [
      "Title: Forrest Gump (1994)\n",
      "Movie ID: 356\n",
      "Number of Ratings: 329\n"
     ]
    }
   ],
   "source": [
    "rating_counts = ratings_df.groupby('movieId')['rating'].count().reset_index()\n",
    "rating_counts.columns = ['movieId', 'rating_count']\n",
    "merged_df = pd.merge(movies_df, rating_counts, on='movieId', how='inner')\n",
    "rated_movie = merged_df.loc[merged_df['rating_count'].idxmax()]\n",
    "print(f\"Title: {rated_movie['title']}\")\n",
    "print(f\"Movie ID: {rated_movie['movieId']}\")\n",
    "print(f\"Number of Ratings: {rated_movie['rating_count']}\")"
   ]
  },
  {
   "cell_type": "code",
   "execution_count": 15,
   "id": "95985190-ecd3-48d0-baef-a9afd8baf51a",
   "metadata": {},
   "outputs": [
    {
     "name": "stdout",
     "output_type": "stream",
     "text": [
      "3.970982142857143\n"
     ]
    }
   ],
   "source": [
    "movie_id = movies_df[movies_df['title'] == \"Terminator 2: Judgment Day (1991)\"]['movieId'].values\n",
    "if len(movie_id) > 0:\n",
    "    movie_id = movie_id[0]\n",
    "    movie_ratings = ratings_df[ratings_df['movieId'] == movie_id]\n",
    "    average_rating = movie_ratings['rating'].mean()\n",
    "    print(average_rating)"
   ]
  },
  {
   "cell_type": "code",
   "execution_count": 20,
   "id": "0df916d9-0d96-4b62-9a01-927b6141fb2c",
   "metadata": {},
   "outputs": [
    {
     "data": {
      "image/png": "[encoded data removed]",
      "text/plain": [
       "<Figure size 640x480 with 1 Axes>"
      ]
     },
     "metadata": {},
     "output_type": "display_data"
    }
   ],
   "source": [
    "movie_id = movies_df[movies_df['title'] == \"Fight Club (1999)\"]['movieId'].values[0]\n",
    "ratings = ratings_df[ratings_df['movieId'] == fight_club_movie_id]['rating']\n",
    "plt.hist(fight_club_ratings, bins=10, edgecolor='black', alpha=0.7)\n",
    "plt.title('Distribution of User Ratings for \"Fight Club (1999)\"')\n",
    "plt.xlabel('Rating')\n",
    "plt.ylabel('Number of Ratings')\n",
    "plt.grid(True)\n",
    "plt.show()\n"
   ]
  },
  {
   "cell_type": "code",
   "execution_count": 33,
   "id": "65ae91c2-dc16-4a8f-9bd1-77f8aed6da35",
   "metadata": {},
   "outputs": [
    {
     "name": "stdout",
     "output_type": "stream",
     "text": [
      "         rating_count  average_rating\n",
      "movieId                              \n",
      "1                 215        3.920930\n",
      "2                 110        3.431818\n",
      "3                  52        3.259615\n",
      "4                   7        2.357143\n",
      "5                  49        3.071429\n"
     ]
    }
   ],
   "source": [
    "import pandas as pd\n",
    "aggregation_results = ratings_df.groupby('movieId')['rating'].agg(['count', 'mean'])\n",
    "aggregation_results.rename(columns={'count': 'rating_count', 'mean': 'average_rating'}, inplace=True)\n",
    "print(aggregation_results.head())\n"
   ]
  },
  {
   "cell_type": "code",
   "execution_count": 22,
   "id": "438838a9-e4e0-45a1-a7ed-36d19ada3cbd",
   "metadata": {},
   "outputs": [
    {
     "name": "stdout",
     "output_type": "stream",
     "text": [
      "      movieId                                      title  \\\n",
      "0           1                           Toy Story (1995)   \n",
      "1           2                             Jumanji (1995)   \n",
      "2           3                    Grumpier Old Men (1995)   \n",
      "3           4                   Waiting to Exhale (1995)   \n",
      "4           5         Father of the Bride Part II (1995)   \n",
      "...       ...                                        ...   \n",
      "9719   193581  Black Butler: Book of the Atlantic (2017)   \n",
      "9720   193583               No Game No Life: Zero (2017)   \n",
      "9721   193585                               Flint (2017)   \n",
      "9722   193587        Bungo Stray Dogs: Dead Apple (2018)   \n",
      "9723   193609        Andrew Dice Clay: Dice Rules (1991)   \n",
      "\n",
      "                                           genres  rating_count  \\\n",
      "0     Adventure|Animation|Children|Comedy|Fantasy           215   \n",
      "1                      Adventure|Children|Fantasy           110   \n",
      "2                                  Comedy|Romance            52   \n",
      "3                            Comedy|Drama|Romance             7   \n",
      "4                                          Comedy            49   \n",
      "...                                           ...           ...   \n",
      "9719              Action|Animation|Comedy|Fantasy             1   \n",
      "9720                     Animation|Comedy|Fantasy             1   \n",
      "9721                                        Drama             1   \n",
      "9722                             Action|Animation             1   \n",
      "9723                                       Comedy             1   \n",
      "\n",
      "      average_rating  \n",
      "0           3.920930  \n",
      "1           3.431818  \n",
      "2           3.259615  \n",
      "3           2.357143  \n",
      "4           3.071429  \n",
      "...              ...  \n",
      "9719        4.000000  \n",
      "9720        3.500000  \n",
      "9721        3.500000  \n",
      "9722        3.500000  \n",
      "9723        4.000000  \n",
      "\n",
      "[9724 rows x 5 columns]\n"
     ]
    }
   ],
   "source": [
    "aggregation_results = ratings_df.groupby('movieId')['rating'].agg(['count', 'mean'])\n",
    "aggregation_results.rename(columns={'count': 'rating_count', 'mean': 'average_rating'}, inplace=True)\n",
    "merged_df = pd.merge(movies_df, aggregation_results, on='movieId', how='inner')\n",
    "print(merged_df)"
   ]
  },
  {
   "cell_type": "code",
   "execution_count": 24,
   "id": "b387f321-f487-4d3b-bebb-0c32d2363ba0",
   "metadata": {},
   "outputs": [
    {
     "name": "stdout",
     "output_type": "stream",
     "text": [
      "      movieId                             title  \\\n",
      "0           1                  Toy Story (1995)   \n",
      "1           2                    Jumanji (1995)   \n",
      "2           3           Grumpier Old Men (1995)   \n",
      "5           6                       Heat (1995)   \n",
      "6           7                    Sabrina (1995)   \n",
      "...       ...                               ...   \n",
      "8287   106782   Wolf of Wall Street, The (2013)   \n",
      "8354   109374  Grand Budapest Hotel, The (2014)   \n",
      "8358   109487               Interstellar (2014)   \n",
      "8457   112852    Guardians of the Galaxy (2014)   \n",
      "8673   122904                   Deadpool (2016)   \n",
      "\n",
      "                                           genres  rating_count  \\\n",
      "0     Adventure|Animation|Children|Comedy|Fantasy           215   \n",
      "1                      Adventure|Children|Fantasy           110   \n",
      "2                                  Comedy|Romance            52   \n",
      "5                           Action|Crime|Thriller           102   \n",
      "6                                  Comedy|Romance            54   \n",
      "...                                           ...           ...   \n",
      "8287                           Comedy|Crime|Drama            54   \n",
      "8354                                 Comedy|Drama            52   \n",
      "8358                                  Sci-Fi|IMAX            73   \n",
      "8457                      Action|Adventure|Sci-Fi            59   \n",
      "8673               Action|Adventure|Comedy|Sci-Fi            54   \n",
      "\n",
      "      average_rating  \n",
      "0           3.920930  \n",
      "1           3.431818  \n",
      "2           3.259615  \n",
      "5           3.946078  \n",
      "6           3.185185  \n",
      "...              ...  \n",
      "8287        3.916667  \n",
      "8354        3.778846  \n",
      "8358        3.993151  \n",
      "8457        4.050847  \n",
      "8673        3.833333  \n",
      "\n",
      "[436 rows x 5 columns]\n"
     ]
    }
   ],
   "source": [
    "filtered_df = merged_df[merged_df['rating_count'] > 50]\n",
    "print(filtered_df)\n"
   ]
  },
  {
   "cell_type": "code",
   "execution_count": 25,
   "id": "583ed843-bb5e-43a2-86be-0704296ac7f9",
   "metadata": {},
   "outputs": [
    {
     "name": "stdout",
     "output_type": "stream",
     "text": [
      "Title: Shawshank Redemption, The (1994)\n",
      "Average Rating: 4.43\n"
     ]
    }
   ],
   "source": [
    "most_popular_movie = filtered_df.loc[filtered_df['average_rating'].idxmax()]\n",
    "print(f\"Title: {most_popular_movie['title']}\")\n",
    "print(f\"Average Rating: {most_popular_movie['average_rating']:.2f}\")"
   ]
  },
  {
   "cell_type": "code",
   "execution_count": 27,
   "id": "74105752-f5cc-4ad7-8baf-66c318f05c27",
   "metadata": {},
   "outputs": [
    {
     "name": "stdout",
     "output_type": "stream",
     "text": [
      "                                 title  rating_count\n",
      "314                Forrest Gump (1994)           329\n",
      "277   Shawshank Redemption, The (1994)           317\n",
      "257                Pulp Fiction (1994)           307\n",
      "510   Silence of the Lambs, The (1991)           279\n",
      "1938                Matrix, The (1999)           278\n"
     ]
    }
   ],
   "source": [
    "rating_counts = ratings_df.groupby('movieId')['rating'].count()\n",
    "rating_counts_df = rating_counts.reset_index()\n",
    "rating_counts_df.columns = ['movieId', 'rating_count']\n",
    "top_movies_df = pd.merge(movies_df, rating_counts_df, on='movieId', how='inner')\n",
    "top_5_movies = top_movies_df.sort_values(by='rating_count', ascending=False).head(5)\n",
    "print(top_5_movies[['title', 'rating_count']])\n"
   ]
  },
  {
   "cell_type": "code",
   "execution_count": 30,
   "id": "28827c37-8888-4374-afee-a20909de2621",
   "metadata": {},
   "outputs": [
    {
     "name": "stdout",
     "output_type": "stream",
     "text": [
      "Jurassic Park (1993)\n",
      "238\n"
     ]
    }
   ],
   "source": [
    "rating_counts = ratings_df.groupby('movieId')['rating'].count().reset_index()\n",
    "rating_counts.columns = ['movieId', 'rating_count']\n",
    "merged_df = pd.merge(movies_df, rating_counts, on='movieId', how='inner')\n",
    "sci_fi_movies = merged_df[merged_df['genres'].str.contains('Sci-Fi', case=False, na=False)]\n",
    "sci_fi_movies_sorted = sci_fi_movies.sort_values(by='rating_count', ascending=False)\n",
    "third_most_popular_sci_fi = sci_fi_movies_sorted.iloc[2]\n",
    "print(third_most_popular_sci_fi['title'])\n",
    "print(third_most_popular_sci_fi['rating_count'])\n"
   ]
  },
  {
   "cell_type": "code",
   "execution_count": 38,
   "id": "8a9ab97a-bccc-42a6-bbfa-a0395bae55f8",
   "metadata": {},
   "outputs": [],
   "source": [
    "links_df = pd.read_csv('links.csv')"
   ]
  },
  {
   "cell_type": "code",
   "execution_count": 39,
   "id": "db680dbd-19e3-48c8-873d-eecdea08399d",
   "metadata": {},
   "outputs": [
    {
     "data": {
      "text/plain": [
       "Index(['movieId', 'imdbId', 'tmdbId'], dtype='object')"
      ]
     },
     "execution_count": 39,
     "metadata": {},
     "output_type": "execute_result"
    }
   ],
   "source": [
    "links_df.columns"
   ]
  },
  {
   "cell_type": "code",
   "execution_count": 31,
   "id": "8df7a9e3-40e4-4432-bf19-49976841a3b3",
   "metadata": {},
   "outputs": [
    {
     "data": {
      "text/html": [
       "<div>\n",
       "<style scoped>\n",
       "    .dataframe tbody tr th:only-of-type {\n",
       "        vertical-align: middle;\n",
       "    }\n",
       "\n",
       "    .dataframe tbody tr th {\n",
       "        vertical-align: top;\n",
       "    }\n",
       "\n",
       "    .dataframe thead th {\n",
       "        text-align: right;\n",
       "    }\n",
       "</style>\n",
       "<table border=\"1\" class=\"dataframe\">\n",
       "  <thead>\n",
       "    <tr style=\"text-align: right;\">\n",
       "      <th></th>\n",
       "      <th>movieId</th>\n",
       "      <th>title</th>\n",
       "      <th>genres</th>\n",
       "      <th>rating_count</th>\n",
       "      <th>imdbId</th>\n",
       "      <th>tmdbId</th>\n",
       "    </tr>\n",
       "  </thead>\n",
       "  <tbody>\n",
       "    <tr>\n",
       "      <th>0</th>\n",
       "      <td>1</td>\n",
       "      <td>Toy Story (1995)</td>\n",
       "      <td>Adventure|Animation|Children|Comedy|Fantasy</td>\n",
       "      <td>215</td>\n",
       "      <td>114709</td>\n",
       "      <td>862.0</td>\n",
       "    </tr>\n",
       "    <tr>\n",
       "      <th>1</th>\n",
       "      <td>2</td>\n",
       "      <td>Jumanji (1995)</td>\n",
       "      <td>Adventure|Children|Fantasy</td>\n",
       "      <td>110</td>\n",
       "      <td>113497</td>\n",
       "      <td>8844.0</td>\n",
       "    </tr>\n",
       "    <tr>\n",
       "      <th>2</th>\n",
       "      <td>3</td>\n",
       "      <td>Grumpier Old Men (1995)</td>\n",
       "      <td>Comedy|Romance</td>\n",
       "      <td>52</td>\n",
       "      <td>113228</td>\n",
       "      <td>15602.0</td>\n",
       "    </tr>\n",
       "    <tr>\n",
       "      <th>5</th>\n",
       "      <td>6</td>\n",
       "      <td>Heat (1995)</td>\n",
       "      <td>Action|Crime|Thriller</td>\n",
       "      <td>102</td>\n",
       "      <td>113277</td>\n",
       "      <td>949.0</td>\n",
       "    </tr>\n",
       "    <tr>\n",
       "      <th>6</th>\n",
       "      <td>7</td>\n",
       "      <td>Sabrina (1995)</td>\n",
       "      <td>Comedy|Romance</td>\n",
       "      <td>54</td>\n",
       "      <td>114319</td>\n",
       "      <td>11860.0</td>\n",
       "    </tr>\n",
       "    <tr>\n",
       "      <th>...</th>\n",
       "      <td>...</td>\n",
       "      <td>...</td>\n",
       "      <td>...</td>\n",
       "      <td>...</td>\n",
       "      <td>...</td>\n",
       "      <td>...</td>\n",
       "    </tr>\n",
       "    <tr>\n",
       "      <th>8287</th>\n",
       "      <td>106782</td>\n",
       "      <td>Wolf of Wall Street, The (2013)</td>\n",
       "      <td>Comedy|Crime|Drama</td>\n",
       "      <td>54</td>\n",
       "      <td>993846</td>\n",
       "      <td>106646.0</td>\n",
       "    </tr>\n",
       "    <tr>\n",
       "      <th>8354</th>\n",
       "      <td>109374</td>\n",
       "      <td>Grand Budapest Hotel, The (2014)</td>\n",
       "      <td>Comedy|Drama</td>\n",
       "      <td>52</td>\n",
       "      <td>2278388</td>\n",
       "      <td>120467.0</td>\n",
       "    </tr>\n",
       "    <tr>\n",
       "      <th>8358</th>\n",
       "      <td>109487</td>\n",
       "      <td>Interstellar (2014)</td>\n",
       "      <td>Sci-Fi|IMAX</td>\n",
       "      <td>73</td>\n",
       "      <td>816692</td>\n",
       "      <td>157336.0</td>\n",
       "    </tr>\n",
       "    <tr>\n",
       "      <th>8457</th>\n",
       "      <td>112852</td>\n",
       "      <td>Guardians of the Galaxy (2014)</td>\n",
       "      <td>Action|Adventure|Sci-Fi</td>\n",
       "      <td>59</td>\n",
       "      <td>2015381</td>\n",
       "      <td>118340.0</td>\n",
       "    </tr>\n",
       "    <tr>\n",
       "      <th>8673</th>\n",
       "      <td>122904</td>\n",
       "      <td>Deadpool (2016)</td>\n",
       "      <td>Action|Adventure|Comedy|Sci-Fi</td>\n",
       "      <td>54</td>\n",
       "      <td>1431045</td>\n",
       "      <td>293660.0</td>\n",
       "    </tr>\n",
       "  </tbody>\n",
       "</table>\n",
       "<p>436 rows × 6 columns</p>\n",
       "</div>"
      ],
      "text/plain": [
       "      movieId                             title  \\\n",
       "0           1                  Toy Story (1995)   \n",
       "1           2                    Jumanji (1995)   \n",
       "2           3           Grumpier Old Men (1995)   \n",
       "5           6                       Heat (1995)   \n",
       "6           7                    Sabrina (1995)   \n",
       "...       ...                               ...   \n",
       "8287   106782   Wolf of Wall Street, The (2013)   \n",
       "8354   109374  Grand Budapest Hotel, The (2014)   \n",
       "8358   109487               Interstellar (2014)   \n",
       "8457   112852    Guardians of the Galaxy (2014)   \n",
       "8673   122904                   Deadpool (2016)   \n",
       "\n",
       "                                           genres  rating_count   imdbId  \\\n",
       "0     Adventure|Animation|Children|Comedy|Fantasy           215   114709   \n",
       "1                      Adventure|Children|Fantasy           110   113497   \n",
       "2                                  Comedy|Romance            52   113228   \n",
       "5                           Action|Crime|Thriller           102   113277   \n",
       "6                                  Comedy|Romance            54   114319   \n",
       "...                                           ...           ...      ...   \n",
       "8287                           Comedy|Crime|Drama            54   993846   \n",
       "8354                                 Comedy|Drama            52  2278388   \n",
       "8358                                  Sci-Fi|IMAX            73   816692   \n",
       "8457                      Action|Adventure|Sci-Fi            59  2015381   \n",
       "8673               Action|Adventure|Comedy|Sci-Fi            54  1431045   \n",
       "\n",
       "        tmdbId  \n",
       "0        862.0  \n",
       "1       8844.0  \n",
       "2      15602.0  \n",
       "5        949.0  \n",
       "6      11860.0  \n",
       "...        ...  \n",
       "8287  106646.0  \n",
       "8354  120467.0  \n",
       "8358  157336.0  \n",
       "8457  118340.0  \n",
       "8673  293660.0  \n",
       "\n",
       "[436 rows x 6 columns]"
      ]
     },
     "execution_count": 31,
     "metadata": {},
     "output_type": "execute_result"
    }
   ],
   "source": [
    "links_df = pd.read_csv('links.csv')\n",
    "rating_counts = ratings_df.groupby('movieId')['rating'].count().reset_index()\n",
    "rating_counts.columns = ['movieId', 'rating_count']\n",
    "merged_df = pd.merge(movies_df, rating_counts, on='movieId', how='inner')\n",
    "merged_df = pd.merge(merged_df, links_df, on='movieId', how='inner')\n",
    "popular_movies_df = merged_df[merged_df['rating_count'] > 50]\n",
    "popular_movies_df"
   ]
  },
  {
   "cell_type": "code",
   "execution_count": 7,
   "id": "4118d58e-8854-4a3e-ba1b-19f3e8a6305a",
   "metadata": {},
   "outputs": [
    {
     "name": "stdout",
     "output_type": "stream",
     "text": [
      "Matrix, The (1999)\n",
      "278\n"
     ]
    }
   ],
   "source": [
    "rating_counts = ratings_df.groupby('movieId')['rating'].count().reset_index()\n",
    "rating_counts.columns = ['movieId', 'rating_count']\n",
    "merged_df = pd.merge(movies_df, rating_counts, on='movieId', how='inner')\n",
    "sci_fi_movies = merged_df[merged_df['genres'].str.contains('Sci-Fi', case=False, na=False)]\n",
    "sci_fi_movies_sorted = sci_fi_movies.sort_values(by='rating_count', ascending=False)\n",
    "third_most_popular_sci_fi = sci_fi_movies_sorted.iloc[0]\n",
    "print(third_most_popular_sci_fi['title'])\n",
    "print(third_most_popular_sci_fi['rating_count'])"
   ]
  },
  {
   "cell_type": "code",
   "execution_count": 8,
   "id": "0627294d-8e37-434f-8871-1f2538f958c0",
   "metadata": {},
   "outputs": [
    {
     "name": "stdout",
     "output_type": "stream",
     "text": [
      "2571\n"
     ]
    }
   ],
   "source": [
    "matrix_movie_id = movies_df[movies_df['title'] == \"Matrix, The (1999)\"]['movieId']\n",
    "if not matrix_movie_id.empty:\n",
    "    print(matrix_movie_id.values[0])\n"
   ]
  },
  {
   "cell_type": "code",
   "execution_count": null,
   "id": "d3ca4398-fce7-45e7-a209-3950b71a5293",
   "metadata": {},
   "outputs": [],
   "source": []
  }
 ],
 "metadata": {
  "kernelspec": {
   "display_name": "Python 3 (ipykernel)",
   "language": "python",
   "name": "python3"
  },
  "language_info": {
   "codemirror_mode": {
    "name": "ipython",
    "version": 3
   },
   "file_extension": ".py",
   "mimetype": "text/x-python",
   "name": "python",
   "nbconvert_exporter": "python",
   "pygments_lexer": "ipython3",
   "version": "3.12.4"
  }
 },
 "nbformat": 4,
 "nbformat_minor": 5
}
